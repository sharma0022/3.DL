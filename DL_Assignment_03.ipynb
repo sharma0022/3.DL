{
  "nbformat": 4,
  "nbformat_minor": 0,
  "metadata": {
    "colab": {
      "provenance": [],
      "authorship_tag": "ABX9TyOHMcS98eqQSrMW1nAmMFkv",
      "include_colab_link": true
    },
    "kernelspec": {
      "name": "python3",
      "display_name": "Python 3"
    },
    "language_info": {
      "name": "python"
    },
    "accelerator": "GPU",
    "gpuClass": "standard"
  },
  "cells": [
    {
      "cell_type": "markdown",
      "metadata": {
        "id": "view-in-github",
        "colab_type": "text"
      },
      "source": [
        "<a href=\"https://colab.research.google.com/github/Maheshkumar145/DL_Theory/blob/main/DL_Assignment_03.ipynb\" target=\"_parent\"><img src=\"https://colab.research.google.com/assets/colab-badge.svg\" alt=\"Open In Colab\"/></a>"
      ]
    },
    {
      "cell_type": "markdown",
      "source": [
        "**1.\tIs it OK to initialize all the weights to the same value as long as that value is selected randomly using He initialization?**\n",
        "\n",
        "**Ans:**Even with different input if all weights are the same, all units in hidden layer will be the same too. This is the main issue with symmetry and reason why you should initialize weights randomly or, at least, with different values. This affects all architectures that use each-to-each connections"
      ],
      "metadata": {
        "id": "RCFWVwsxoR8F"
      }
    },
    {
      "cell_type": "markdown",
      "source": [
        "**2.\tIs it OK to initialize the bias terms to 0?**\n",
        "\n",
        "**Ans:**There will no issues if bias is 0 because non-zero weights take care of breaking the symmetry and even if bias is 0, the values in every neuron will still be different."
      ],
      "metadata": {
        "id": "1hOLD94woQE_"
      }
    },
    {
      "cell_type": "markdown",
      "source": [
        "**3.\tName three advantages of the SELU activation function over ReLU?**\n",
        "\n",
        "**Ans:**\n",
        "\n",
        "**a.**SELU does not have vanishing gradient problem and hence, is used in deep neural networks.\n",
        "\n",
        "**b.**SELUs learn faster and better than other activation functions without needing further procession.\n",
        "\n",
        "**c.**SELUs cannot die.\n"
      ],
      "metadata": {
        "id": "FtMe9sQmoOE0"
      }
    },
    {
      "cell_type": "markdown",
      "source": [
        "**4.\tIn which cases would you want to use each of the following activation functions: SELU, leaky ReLU (and its variants), ReLU, tanh, logistic, and softmax?**\n",
        "\n",
        "**Ans:**\n",
        "\n",
        "**1.SELUs** are activation functions that induce self-normalizing properties.\n",
        "\n",
        "**2.Leaky ReLU** is used when a small slope for negative values is required instead of a flat slope.\n",
        "\n",
        "**3.Tanh** activation function results in higher values of gradient during training and higher updates in the weights of the network. So, if we want strong gradients and big learning steps, we should use the tanh activation function.\n",
        "\n",
        "**4.Logistic** is used for models where we have to predict the probability as an output i.e., in range of 0 to 1.\n",
        "\n",
        "**5.Softmax** is used as the activation function for multi-class classification problems where class membership is required on more than two class labels.\n"
      ],
      "metadata": {
        "id": "mzWTVHxjoLOO"
      }
    },
    {
      "cell_type": "markdown",
      "source": [
        "**5.\tWhat may happen if you set the momentum hyperparameter too close to 1 (e.g., 0.99999) when using an SGD optimizer?**\n",
        "\n",
        "**Ans:** Algorithm will likely pick up a lot of speed, hopefully moving roughly toward the global minimum, but its momentum will carry it right past the minimum."
      ],
      "metadata": {
        "id": "zrxiuT0joJGh"
      }
    },
    {
      "cell_type": "markdown",
      "source": [
        "**6.\tName three ways you can produce a sparse model?**\n",
        "\n",
        "**Ans:** Image processing,Object recoginition,General supervised learning."
      ],
      "metadata": {
        "id": "wL5JAonMoG7y"
      }
    },
    {
      "cell_type": "markdown",
      "source": [
        "**7.\tDoes dropout slow down training? Does it slow down inference (i.e., making predictions on new instances)? What about MC Dropout?**\n",
        "\n",
        "**Ans:** Yes it will slowdown training because while backpropogation there wont be that ommitted neuron so it will take time to training.\n",
        "\n",
        "Dropout does work in inference time during training time, dropout randomly sets node values to zero.\n",
        "\n",
        "Monte Carlo dropout (MC-Dropout) is one of the most well-known techniques to quantify uncertainty in deep learning methods.It provides a scalable way to learn a predictive distribution."
      ],
      "metadata": {
        "id": "EDWbhMskoEyl"
      }
    },
    {
      "cell_type": "markdown",
      "source": [
        "**8.Practice training a deep neural network on the CIFAR10 image dataset:**\n",
        "\n",
        "**a.\tBuild a DNN with 20 hidden layers of 100 neurons each (that’s too many, but it’s the point of this exercise). Use He initialization and the ELU activation function.**\n",
        "\n",
        "**b.\tUsing Nadam optimization and early stopping, train the network on the CIFAR10 dataset. You can load it with keras.datasets.cifar10.load_data(). The dataset is composed of 60,000 32 × 32–pixel color images (50,000 for training, 10,000 for testing) with 10 classes, so you’ll need a softmax output layer with 10 neurons. Remember to search for the right learning rate each time you change the model’s architecture or hyperparameters.**\n",
        "\n",
        "**c.\tNow try adding Batch Normalization and compare the learning curves: Is it converging faster than before? Does it produce a better model? How does it affect training speed?**\n",
        "\n",
        "**d.\tTry replacing Batch Normalization with SELU, and make the necessary adjustements to ensure the network self-normalizes (i.e., standardize the input features, use LeCun normal initialization, make sure the DNN contains only a sequence of dense layers, etc.).**\n",
        "\n",
        "**e.\tTry regularizing the model with alpha dropout. Then, without retraining your model, see if you can achieve better accuracy using MC Dropout.**"
      ],
      "metadata": {
        "id": "5PqurXPBoA1Y"
      }
    },
    {
      "cell_type": "code",
      "source": [
        "import numpy as np\n",
        "import pandas as pd\n",
        "import matplotlib.pyplot as plt\n",
        "import matplotlib.image as mpimg\n",
        "import seaborn as sns\n",
        "import os\n",
        "for dirname, _, filenames in os.walk('/kaggle/input'):\n",
        "    for filename in filenames:\n",
        "        print(os.path.join(dirname, filename))"
      ],
      "metadata": {
        "id": "DlGWcyLfmsTL"
      },
      "execution_count": 1,
      "outputs": []
    },
    {
      "cell_type": "code",
      "source": [
        "from tensorflow.keras.datasets import cifar10\n",
        "(X_train, Y_train), (X_test, Y_test) = cifar10.load_data()"
      ],
      "metadata": {
        "colab": {
          "base_uri": "https://localhost:8080/"
        },
        "id": "e9arBmEamzvN",
        "outputId": "9f5e83b5-73df-432e-915f-77bae0a4f1d4"
      },
      "execution_count": 2,
      "outputs": [
        {
          "output_type": "stream",
          "name": "stdout",
          "text": [
            "Downloading data from https://www.cs.toronto.edu/~kriz/cifar-10-python.tar.gz\n",
            "170498071/170498071 [==============================] - 2s 0us/step\n"
          ]
        }
      ]
    },
    {
      "cell_type": "code",
      "source": [
        "print('X_train.shape  :', X_train.shape)\n",
        "print('Y_train.shape  :', Y_train.shape)\n",
        "print('X_test.shape   :', X_test.shape)\n",
        "print('Y_test.shape   :', Y_test.shape)"
      ],
      "metadata": {
        "colab": {
          "base_uri": "https://localhost:8080/"
        },
        "id": "gLx7DdIym6Gb",
        "outputId": "dabbb5f1-3ce0-43a1-a692-007cc0e3fefc"
      },
      "execution_count": 3,
      "outputs": [
        {
          "output_type": "stream",
          "name": "stdout",
          "text": [
            "X_train.shape  : (50000, 32, 32, 3)\n",
            "Y_train.shape  : (50000, 1)\n",
            "X_test.shape   : (10000, 32, 32, 3)\n",
            "Y_test.shape   : (10000, 1)\n"
          ]
        }
      ]
    },
    {
      "cell_type": "code",
      "source": [
        "def print_long_list(x, n_items=7, str_len=15):\n",
        "    print('len:', len(x))\n",
        "    for i in range(0, len(x), n_items):\n",
        "        for j in x[i:min(i+n_items, len(x))]:\n",
        "            print(str('{0: <'+str(str_len)+'}').format(str(j)), end=' ')\n",
        "        print()"
      ],
      "metadata": {
        "id": "-LJQ7fP5m-X7"
      },
      "execution_count": 4,
      "outputs": []
    },
    {
      "cell_type": "code",
      "source": [
        "def get_datatypes(df):\n",
        "    dtypes_col, dtypes_cnt = {}, {}\n",
        "    for col in df:\n",
        "        x = str(df[col].dtype)\n",
        "        if x not in dtypes_col:\n",
        "            dtypes_col[x] = [col]\n",
        "            dtypes_cnt[x] = 1\n",
        "        else:\n",
        "            dtypes_col[x] += [col]\n",
        "            dtypes_cnt[x] += 1\n",
        "    return dtypes_cnt, dtypes_col"
      ],
      "metadata": {
        "id": "-oRoyswpnEdS"
      },
      "execution_count": 5,
      "outputs": []
    },
    {
      "cell_type": "code",
      "source": [
        "dtypes_cnt, dtypes_col = get_datatypes(X_train)\n",
        "dtypes_cnt"
      ],
      "metadata": {
        "colab": {
          "base_uri": "https://localhost:8080/"
        },
        "id": "V8U5AwCqnLQS",
        "outputId": "9a4434e3-26de-498c-885c-3ff2f4d44ca5"
      },
      "execution_count": 6,
      "outputs": [
        {
          "output_type": "execute_result",
          "data": {
            "text/plain": [
              "{'uint8': 50000}"
            ]
          },
          "metadata": {},
          "execution_count": 6
        }
      ]
    },
    {
      "cell_type": "code",
      "source": [
        "dtypes_cnt, dtypes_col = get_datatypes(X_test)\n",
        "dtypes_cnt"
      ],
      "metadata": {
        "colab": {
          "base_uri": "https://localhost:8080/"
        },
        "id": "JNipwQtnnX_X",
        "outputId": "1cfe9227-35c6-4e6a-8d11-3a70cb7cb8af"
      },
      "execution_count": 7,
      "outputs": [
        {
          "output_type": "execute_result",
          "data": {
            "text/plain": [
              "{'uint8': 10000}"
            ]
          },
          "metadata": {},
          "execution_count": 7
        }
      ]
    },
    {
      "cell_type": "code",
      "source": [
        "dtypes_cnt, dtypes_col = get_datatypes(Y_train)\n",
        "dtypes_cnt"
      ],
      "metadata": {
        "colab": {
          "base_uri": "https://localhost:8080/"
        },
        "id": "F3g7z3ssnagn",
        "outputId": "288f806f-8c07-45b7-b4d6-f4a351e13a6c"
      },
      "execution_count": 8,
      "outputs": [
        {
          "output_type": "execute_result",
          "data": {
            "text/plain": [
              "{'uint8': 50000}"
            ]
          },
          "metadata": {},
          "execution_count": 8
        }
      ]
    },
    {
      "cell_type": "code",
      "source": [
        "dtypes_cnt, dtypes_col = get_datatypes(Y_test)\n",
        "dtypes_cnt"
      ],
      "metadata": {
        "colab": {
          "base_uri": "https://localhost:8080/"
        },
        "id": "k-geM-_AndPu",
        "outputId": "ada44efb-ae3f-4e1c-e295-9496ae7b6d62"
      },
      "execution_count": 9,
      "outputs": [
        {
          "output_type": "execute_result",
          "data": {
            "text/plain": [
              "{'uint8': 10000}"
            ]
          },
          "metadata": {},
          "execution_count": 9
        }
      ]
    },
    {
      "cell_type": "code",
      "source": [
        "fig, axs = plt.subplots(1,2,figsize=(24,6)) \n",
        "# Count plot for training set\n",
        "sns.countplot(Y_train.ravel(), ax=axs[0])\n",
        "axs[0].set_title('Distribution of training data')\n",
        "axs[0].set_xlabel('Classes')\n",
        "# Count plot for testing set\n",
        "sns.countplot(Y_test.ravel(), ax=axs[1])\n",
        "axs[1].set_title('Distribution of Testing data')\n",
        "axs[1].set_xlabel('Classes')\n",
        "plt.show()"
      ],
      "metadata": {
        "colab": {
          "base_uri": "https://localhost:8080/",
          "height": 420
        },
        "id": "ACmKe8hmnhBm",
        "outputId": "e099e1fc-8367-4d88-b56d-f1dc35fbd437"
      },
      "execution_count": 10,
      "outputs": [
        {
          "output_type": "stream",
          "name": "stderr",
          "text": [
            "/usr/local/lib/python3.8/dist-packages/seaborn/_decorators.py:36: FutureWarning: Pass the following variable as a keyword arg: x. From version 0.12, the only valid positional argument will be `data`, and passing other arguments without an explicit keyword will result in an error or misinterpretation.\n",
            "  warnings.warn(\n",
            "/usr/local/lib/python3.8/dist-packages/seaborn/_decorators.py:36: FutureWarning: Pass the following variable as a keyword arg: x. From version 0.12, the only valid positional argument will be `data`, and passing other arguments without an explicit keyword will result in an error or misinterpretation.\n",
            "  warnings.warn(\n"
          ]
        },
        {
          "output_type": "display_data",
          "data": {
            "text/plain": [
              "<Figure size 1728x432 with 2 Axes>"
            ],
            "image/png": "[encoded data removed]"
          },
          "metadata": {
            "needs_background": "light"
          }
        }
      ]
    },
    {
      "cell_type": "code",
      "source": [
        "print('X_train.shape  :', X_train.shape)\n",
        "print('Y_train.shape  :', Y_train.shape)\n",
        "print('X_test.shape   :', X_test.shape)\n",
        "print('Y_test.shape   :', Y_test.shape)"
      ],
      "metadata": {
        "colab": {
          "base_uri": "https://localhost:8080/"
        },
        "id": "oASCmejNnqZS",
        "outputId": "0b232ac2-4bca-4452-cdc8-269e4eec1ba3"
      },
      "execution_count": 11,
      "outputs": [
        {
          "output_type": "stream",
          "name": "stdout",
          "text": [
            "X_train.shape  : (50000, 32, 32, 3)\n",
            "Y_train.shape  : (50000, 1)\n",
            "X_test.shape   : (10000, 32, 32, 3)\n",
            "Y_test.shape   : (10000, 1)\n"
          ]
        }
      ]
    },
    {
      "cell_type": "code",
      "source": [
        "X_train = X_train / 255.0\n",
        "X_test  = X_test  / 255.0"
      ],
      "metadata": {
        "id": "JIXkbPvCnuy7"
      },
      "execution_count": 12,
      "outputs": []
    },
    {
      "cell_type": "code",
      "source": [
        "print('X_train.shape  :', X_train.shape)\n",
        "print('Y_train.shape  :', Y_train.shape)\n",
        "print('X_test.shape   :', X_test.shape)\n",
        "print('Y_test.shape   :', Y_test.shape)"
      ],
      "metadata": {
        "colab": {
          "base_uri": "https://localhost:8080/"
        },
        "id": "On27NfbKnzEb",
        "outputId": "3d7d9a5c-2c06-49ab-979b-6ec67100f987"
      },
      "execution_count": 13,
      "outputs": [
        {
          "output_type": "stream",
          "name": "stdout",
          "text": [
            "X_train.shape  : (50000, 32, 32, 3)\n",
            "Y_train.shape  : (50000, 1)\n",
            "X_test.shape   : (10000, 32, 32, 3)\n",
            "Y_test.shape   : (10000, 1)\n"
          ]
        }
      ]
    }
  ]
}